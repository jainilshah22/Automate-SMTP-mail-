{
 "cells": [
  {
   "cell_type": "code",
   "execution_count": 1,
   "id": "e58dc0d4",
   "metadata": {},
   "outputs": [],
   "source": [
    "import smtplib\n",
    "from email.mime.multipart import MIMEMultipart\n",
    "from email.mime.text import MIMEText\n",
    "from email.mime.base import MIMEBase\n",
    "from email import encoders\n",
    "import os"
   ]
  },
  {
   "cell_type": "code",
   "execution_count": 2,
   "id": "fdc57200",
   "metadata": {},
   "outputs": [],
   "source": [
    "def send_email(event_name,event_start,email,company_name):\n",
    "    email_content=\"\"\"<p>Respected Sir/Madam,</p>\n",
    "    <p><t></t>Hii i am <b> Jainil Shah</b> \"\"\"+event_name+\"\"\"<p>I am writing to express my strong interest in the Python Developer position at \"\"\"+company_name+\"\"\", as advertised on Linkedin. With a solid background in software development and a passion for creating efficient and innovative solutions, I am confident in my ability to contribute to your team and help\"\"\"+company_name+\"\"\", achieve its goals.</p>\n",
    "    <p>I can start the job from</p>\"\"\"+str(event_start)+\"\"\"\n",
    "    <p>regards</p>\n",
    "    <p><b>Jainil Shah(Profile Attached)<b></p>\n",
    "    <p>9320464547</p>\"\"\"\n",
    "    \n",
    "    \n",
    "    sender_address=\"jainil.shah039@nmims.edu.in\"\n",
    "    sender_password=\"Jainil2001@\"\n",
    "    reciever_address=email\n",
    "    \n",
    "    #to send multiple in for together in mail\n",
    "    message = MIMEMultipart()\n",
    "    message[\"From\"] = \"Jainil Shah <jainil.shah039@nmims.edu.in>\"\n",
    "    message[\"To\"] = reciever_address\n",
    "    message[\"Subject\"] = event_name\n",
    "    message.attach(MIMEText(email_content, \"html\"))\n",
    "    \n",
    "   \n",
    "    attach_file_name=\"Jainil's Resume.pdf\" \n",
    "    attach_file = open(attach_file_name,\"rb\")# binary\n",
    "    payload= MIMEBase('application','octate-stream')\n",
    "    #it is transmited in base 64\n",
    "    payload.set_payload((attach_file).read())\n",
    "    encoders.encode_base64(payload)\n",
    "    payload.add_header(\"Content-Disposition\",\"attachment\",filename=\"Resume\")\n",
    "    message.attach(payload)\n",
    "    \n",
    "    session = smtplib.SMTP(\"smtp.gmail.com\", 587)\n",
    "    session.starttls()\n",
    "    session.login(sender_address,sender_password) #enable less Secure app option in email\n",
    "    text= message.as_string()\n",
    "    session.sendmail(sender_address,reciever_address,text)\n",
    "    session.quit()\n",
    "    print(\"Mail send to\", reciever_address)"
   ]
  },
  {
   "cell_type": "code",
   "execution_count": 3,
   "id": "21b15c2a",
   "metadata": {},
   "outputs": [
    {
     "name": "stdout",
     "output_type": "stream",
     "text": [
      "Mail send to jainilshah2001@gmail.com\n",
      "Mail send to shahjainil2211@gmail.com\n",
      "Process Complete\n"
     ]
    }
   ],
   "source": [
    "event_name= \"Applying for Python Developer role\"\n",
    "company_name=\"Hackveda\"\n",
    "event_start= \"25-12-2023\"\n",
    "reciever_email=[\"jainilshah2001@gmail.com\",\"shahjainil2211@gmail.com\"]\n",
    "for emails in reciever_email:\n",
    "    email=emails\n",
    "    #print(email)\n",
    "    send_email(event_name,event_start,email,company_name)\n",
    "print(\"Process Complete\")"
   ]
  },
  {
   "cell_type": "code",
   "execution_count": null,
   "id": "c0f9b9ce",
   "metadata": {},
   "outputs": [],
   "source": [
    "#link to less secure available\n",
    "#https://myaccount.google.com/lesssecureapps"
   ]
  }
 ],
 "metadata": {
  "kernelspec": {
   "display_name": "Python 3 (ipykernel)",
   "language": "python",
   "name": "python3"
  },
  "language_info": {
   "codemirror_mode": {
    "name": "ipython",
    "version": 3
   },
   "file_extension": ".py",
   "mimetype": "text/x-python",
   "name": "python",
   "nbconvert_exporter": "python",
   "pygments_lexer": "ipython3",
   "version": "3.11.5"
  }
 },
 "nbformat": 4,
 "nbformat_minor": 5
}
